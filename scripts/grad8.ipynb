# %% [markdown]
# # 1. 数据预处理与增强
# %%
import numpy as np
import pandas as pd
import matplotlib.pyplot as plt
import seaborn as sns
from textblob import TextBlob
from sklearn.cluster import DBSCAN
from ruptures import Binseg
import xgboost as xgb
import shap

# %%
# 加载数据
df = pd.read_csv("your_data.csv", parse_dates=['Postdate', 'photo_firstdatetaken'])

# %% [markdown]
# ## 1.1 时空特征工程
# %%
# 时间特征
df['post_hour'] = df['Postdate'].dt.hour
df['post_season'] = df['Postdate'].dt.quarter  # 季节

# 地理聚类
geo_coords = df[['Latitude', 'Longitude']].dropna()
dbscan = DBSCAN(eps=0.3, min_samples=10)
df['geo_cluster'] = dbscan.fit_predict(geo_coords)

# %% [markdown]
# ## 1.2 文本特征提取
# %%
def extract_text_features(text):
    try:
        blob = TextBlob(str(text))
        return pd.Series({
            'text_polarity': blob.sentiment.polarity,
            'text_subjectivity': blob.sentiment.subjectivity,
            'tag_count': len(str(text).split()) if pd.notnull(text) else 0
        })
    except:
        return pd.Series({'text_polarity':0, 'text_subjectivity':0, 'tag_count':0})

text_features = df[['title', 'user_description', 'all_tags']].apply(
    lambda col: col.apply(extract_text_features).sum(axis=1), axis=0)
df = pd.concat([df, text_features], axis=1)

# %% [markdown]
# ## 1.3 动态透明度阈值检测
# %%
def detect_transparency_threshold(df, target='label'):
    df_sorted = df.sort_values('value_mean').reset_index(drop=True)  # 使用HSV的Value通道近似透明度
    model = Binseg(model="l2").fit(df_sorted[target].values.reshape(-1,1))
    changepoints = model.predict(n_bkps=1)
    threshold = df_sorted.iloc[changepoints[0]]['value_mean']
    return threshold

trans_threshold = detect_transparency_threshold(df)
print(f"动态透明度阈值: {trans_threshold:.2f}")
df['high_trans'] = (df['value_mean'] > trans_threshold).astype(int)

# %% [markdown]
# # 2. 多模态融合分析
# %%
# %% [markdown]
# ## 2.1 地理热度聚类可视化
# %%
plt.figure(figsize=(10,6))
sns.scatterplot(x='Longitude', y='Latitude', hue='geo_cluster', size='label', 
                data=df, palette='viridis', alpha=0.5)
plt.title("Geographic Distribution of Post Popularity")

# %% [markdown]
# ## 2.2 文本-视觉交互效应
# %%
formula = '''
label ~ value_mean * text_polarity + 
hue_mean + saturation_mean + 
C(post_season) + log1p(photo_count)
'''
model = smf.ols(formula, data=df).fit()
print(model.summary())

# %% [markdown]
# ## 2.3 用户画像分层研究
# %%
pro_user_effect = df.groupby('ispro').apply(
    lambda x: spearmanr(x['value_mean'], x['label'])[0])
pro_user_effect.plot(kind='bar', title='Transparency Effect by Pro User Status')

# %% [markdown]
# # 3. 应用验证
# %%
# %% [markdown]
# ## 3.1 热度预测模型
# %%
features = ['value_mean', 'red_mean', 'contrast', 'text_polarity', 
           'post_hour', 'geo_cluster', 'ispro']
X = df[features].fillna(0)
y = np.log1p(df['label'])  # 对数转换

model = xgb.XGBRegressor()
model.fit(X, y)

# SHAP解释
explainer = shap.Explainer(model)
shap_values = explainer(X)
shap.plots.beeswarm(shap_values)

# %% [markdown]
# ## 3.2 视觉参数优化建议系统
# %%
def recommend_visual_params(user_type='pro'):
    if user_type == 'pro':
        return {
            'optimal_value': df[df['ispro']==1]['value_mean'].quantile(0.75),
            'recommended_contrast': df[df['ispro']==1]['contrast'].median()
        }
    else:
        return {
            'optimal_value': df[df['ispro']==0]['value_mean'].quantile(0.6),
            'recommended_contrast': df[df['ispro']==0]['contrast'].median()
        }

print("Pro用户推荐参数:", recommend_visual_params('pro'))
